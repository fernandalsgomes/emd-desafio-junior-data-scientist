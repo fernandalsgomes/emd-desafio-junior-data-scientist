{
 "cells": [
  {
   "cell_type": "code",
   "execution_count": 1,
   "id": "14b0ba50-5244-454a-8a22-0d81de6d15a7",
   "metadata": {},
   "outputs": [],
   "source": [
    "import numpy as np\n",
    "import pandas as pd\n",
    "import basedosdados as bd\n",
    "from datetime import datetime"
   ]
  },
  {
   "cell_type": "markdown",
   "id": "ceebdd9b-545e-41dd-bf60-070deb90f5b2",
   "metadata": {},
   "source": [
    "## Dados necessários"
   ]
  },
  {
   "cell_type": "code",
   "execution_count": 2,
   "id": "8a53086b-b180-412b-8070-9fb808dbc301",
   "metadata": {},
   "outputs": [
    {
     "name": "stderr",
     "output_type": "stream",
     "text": [
      "Downloading: 100%|██████████████████████████████████████████████████████████████████| 73/73 [00:00<00:00, 139.18rows/s]\n"
     ]
    }
   ],
   "source": [
    "query = '''\n",
    "  SELECT * \n",
    "  FROM `datario.administracao_servicos_publicos.chamado_1746`\n",
    "  WHERE DATETIME_TRUNC(data_inicio, DAY) = '2023-04-01T00:00:00'\n",
    "'''\n",
    "chamado_01042023_df = bd.read_sql(query, billing_project_id = 'projeto-escritorio-dados-rj')"
   ]
  },
  {
   "cell_type": "code",
   "execution_count": 3,
   "id": "59a5c42d-cd98-4bf4-b7f7-e838728837f4",
   "metadata": {},
   "outputs": [
    {
     "name": "stderr",
     "output_type": "stream",
     "text": [
      "Downloading: 100%|███████████████████████████████████████████████████████████| 42408/42408 [00:25<00:00, 1653.08rows/s]\n"
     ]
    }
   ],
   "source": [
    "query = '''\n",
    "  SELECT * \n",
    "  FROM `datario.administracao_servicos_publicos.chamado_1746`\n",
    "  WHERE data_inicio BETWEEN '2022-01-01T00:00:00' AND '2023-12-31T23:59:59'\n",
    "  AND subtipo = 'Perturbação do sossego'\n",
    "'''\n",
    "chamado_2022_2023_df = bd.read_sql(query, billing_project_id = 'projeto-escritorio-dados-rj')\n",
    "\n",
    "chamado_2022_2023_df['data_inicio'] = pd.to_datetime(chamado_2022_2023_df['data_inicio']).dt.date"
   ]
  },
  {
   "cell_type": "code",
   "execution_count": 4,
   "id": "513cb776-f871-4828-8819-465892564ac3",
   "metadata": {},
   "outputs": [
    {
     "name": "stderr",
     "output_type": "stream",
     "text": [
      "Downloading: 100%|█████████████████████████████████████████████████████████████████| 164/164 [00:11<00:00, 14.26rows/s]\n"
     ]
    }
   ],
   "source": [
    "query = '''\n",
    "  SELECT * \n",
    "  FROM `datario.dados_mestres.bairro`\n",
    "'''\n",
    "bairros_df = bd.read_sql(query, billing_project_id = 'projeto-escritorio-dados-rj')"
   ]
  },
  {
   "cell_type": "code",
   "execution_count": 5,
   "id": "02c93102-f6db-4f67-b7a1-19e744b9c375",
   "metadata": {},
   "outputs": [
    {
     "name": "stderr",
     "output_type": "stream",
     "text": [
      "Downloading: 100%|█████████████████████████████████████████████████████████████████████| 4/4 [00:00<00:00, 10.07rows/s]\n"
     ]
    }
   ],
   "source": [
    "query = '''\n",
    "  SELECT * \n",
    "  FROM `datario.turismo_fluxo_visitantes.rede_hoteleira_ocupacao_eventos`\n",
    "'''\n",
    "ocupacao_eventos_df = bd.read_sql(query, billing_project_id = 'projeto-escritorio-dados-rj')\n",
    "\n",
    "ocupacao_eventos_df['data_inicial'] = pd.to_datetime(ocupacao_eventos_df['data_inicial']).dt.date\n",
    "ocupacao_eventos_df['data_final'] = pd.to_datetime(ocupacao_eventos_df['data_final']).dt.date"
   ]
  },
  {
   "cell_type": "markdown",
   "id": "04997f19-4868-4ca1-83f4-86ced449ea36",
   "metadata": {},
   "source": [
    "## Questão 1"
   ]
  },
  {
   "cell_type": "code",
   "execution_count": 6,
   "id": "e16ff984-b2d6-4f1f-81e3-c1d27a46ab83",
   "metadata": {},
   "outputs": [
    {
     "name": "stdout",
     "output_type": "stream",
     "text": [
      "Foram abertos 73 chamdos no dia 01/04/2023.\n"
     ]
    }
   ],
   "source": [
    "print(f'Foram abertos {len(chamado_01042023_df)} chamdos no dia 01/04/2023.')"
   ]
  },
  {
   "cell_type": "markdown",
   "id": "f23f80b5-e090-4b48-b633-bccaf8086209",
   "metadata": {},
   "source": [
    "## Questão 2"
   ]
  },
  {
   "cell_type": "code",
   "execution_count": 7,
   "id": "3038834a-ce1f-43bc-82dc-8d4ba05ae4ec",
   "metadata": {},
   "outputs": [
    {
     "name": "stdout",
     "output_type": "stream",
     "text": [
      "O tipo de chamado mais frequente no dia 01/04/2023 é Poluição sonora.\n"
     ]
    }
   ],
   "source": [
    "tipo_frequente_chamado = chamado_01042023_df[\"tipo\"].value_counts().idxmax()\n",
    "\n",
    "print(f'O tipo de chamado mais frequente no dia 01/04/2023 é {tipo_frequente_chamado}.')"
   ]
  },
  {
   "cell_type": "markdown",
   "id": "16411d82-3150-47c0-afc2-e2c612a401d0",
   "metadata": {},
   "source": [
    "## Questão 3"
   ]
  },
  {
   "cell_type": "code",
   "execution_count": 8,
   "id": "1ca963bf-bb9d-4985-87ee-22a790b93d2a",
   "metadata": {},
   "outputs": [
    {
     "name": "stdout",
     "output_type": "stream",
     "text": [
      "Os bairros com mais chamados no dia 01/04/2023 são Engenho de Dentro, Leblon e Campo Grande.\n"
     ]
    }
   ],
   "source": [
    "chamados_bairro = chamado_01042023_df.merge(bairros_df, on = 'id_bairro', how = 'left')\n",
    "chamados_bairros_top3 = chamados_bairro['nome'].value_counts()[:3].index.tolist()\n",
    "\n",
    "print(f'Os bairros com mais chamados no dia 01/04/2023 são {chamados_bairros_top3[0]}, \\\n",
    "{chamados_bairros_top3[1]} e {chamados_bairros_top3[2]}.')"
   ]
  },
  {
   "cell_type": "markdown",
   "id": "15338e5a-6316-4853-a2f1-142fd7ff5c31",
   "metadata": {},
   "source": [
    "## Questão 4"
   ]
  },
  {
   "cell_type": "code",
   "execution_count": 9,
   "id": "300cc89d-bd4f-460c-9856-9cc185a891ee",
   "metadata": {},
   "outputs": [
    {
     "name": "stdout",
     "output_type": "stream",
     "text": [
      "A subprefeitura com mais chamados abertos no dia 01/04/2023 é a subprefeitura Zona Norte.\n"
     ]
    }
   ],
   "source": [
    "chamados_subprefeitura = chamados_bairro['subprefeitura'].value_counts().idxmax()\n",
    "\n",
    "print(f'A subprefeitura com mais chamados abertos no dia 01/04/2023 é a subprefeitura {chamados_subprefeitura}.')"
   ]
  },
  {
   "cell_type": "markdown",
   "id": "4d9e0633-5feb-43d2-b6d8-33fbf81f7b68",
   "metadata": {},
   "source": [
    "## Questão 5"
   ]
  },
  {
   "cell_type": "code",
   "execution_count": 10,
   "id": "6590ae70-10c8-4a7a-84be-c031860ec432",
   "metadata": {},
   "outputs": [
    {
     "data": {
      "text/html": [
       "<div>\n",
       "<style scoped>\n",
       "    .dataframe tbody tr th:only-of-type {\n",
       "        vertical-align: middle;\n",
       "    }\n",
       "\n",
       "    .dataframe tbody tr th {\n",
       "        vertical-align: top;\n",
       "    }\n",
       "\n",
       "    .dataframe thead th {\n",
       "        text-align: right;\n",
       "    }\n",
       "</style>\n",
       "<table border=\"1\" class=\"dataframe\">\n",
       "  <thead>\n",
       "    <tr style=\"text-align: right;\">\n",
       "      <th></th>\n",
       "      <th>id_chamado</th>\n",
       "      <th>data_inicio</th>\n",
       "      <th>data_fim</th>\n",
       "      <th>id_bairro</th>\n",
       "      <th>id_territorialidade</th>\n",
       "      <th>id_logradouro</th>\n",
       "      <th>numero_logradouro</th>\n",
       "      <th>id_unidade_organizacional</th>\n",
       "      <th>nome_unidade_organizacional</th>\n",
       "      <th>id_unidade_organizacional_mae</th>\n",
       "      <th>...</th>\n",
       "      <th>id_area_planejamento</th>\n",
       "      <th>id_regiao_planejamento</th>\n",
       "      <th>nome_regiao_planejamento</th>\n",
       "      <th>id_regiao_administrativa</th>\n",
       "      <th>nome_regiao_administrativa</th>\n",
       "      <th>subprefeitura</th>\n",
       "      <th>area</th>\n",
       "      <th>perimetro</th>\n",
       "      <th>geometry_wkt</th>\n",
       "      <th>geometry_y</th>\n",
       "    </tr>\n",
       "  </thead>\n",
       "  <tbody>\n",
       "    <tr>\n",
       "      <th>0</th>\n",
       "      <td>18516246</td>\n",
       "      <td>2023-04-01 00:55:38</td>\n",
       "      <td>2023-04-01 00:55:38</td>\n",
       "      <td>None</td>\n",
       "      <td>None</td>\n",
       "      <td>None</td>\n",
       "      <td>&lt;NA&gt;</td>\n",
       "      <td>1706</td>\n",
       "      <td>TR/SUBOP/CFT - Coordenadoria de Fiscalização e...</td>\n",
       "      <td>SMTR - Secretaria Municipal de Transportes</td>\n",
       "      <td>...</td>\n",
       "      <td>NaN</td>\n",
       "      <td>NaN</td>\n",
       "      <td>NaN</td>\n",
       "      <td>NaN</td>\n",
       "      <td>NaN</td>\n",
       "      <td>NaN</td>\n",
       "      <td>NaN</td>\n",
       "      <td>NaN</td>\n",
       "      <td>NaN</td>\n",
       "      <td>NaN</td>\n",
       "    </tr>\n",
       "  </tbody>\n",
       "</table>\n",
       "<p>1 rows × 43 columns</p>\n",
       "</div>"
      ],
      "text/plain": [
       "  id_chamado         data_inicio            data_fim id_bairro  \\\n",
       "0   18516246 2023-04-01 00:55:38 2023-04-01 00:55:38      None   \n",
       "\n",
       "  id_territorialidade id_logradouro  numero_logradouro  \\\n",
       "0                None          None               <NA>   \n",
       "\n",
       "  id_unidade_organizacional  \\\n",
       "0                      1706   \n",
       "\n",
       "                         nome_unidade_organizacional  \\\n",
       "0  TR/SUBOP/CFT - Coordenadoria de Fiscalização e...   \n",
       "\n",
       "                id_unidade_organizacional_mae  ... id_area_planejamento  \\\n",
       "0  SMTR - Secretaria Municipal de Transportes  ...                  NaN   \n",
       "\n",
       "  id_regiao_planejamento nome_regiao_planejamento id_regiao_administrativa  \\\n",
       "0                    NaN                      NaN                      NaN   \n",
       "\n",
       "  nome_regiao_administrativa subprefeitura area  perimetro  geometry_wkt  \\\n",
       "0                        NaN           NaN  NaN        NaN           NaN   \n",
       "\n",
       "  geometry_y  \n",
       "0        NaN  \n",
       "\n",
       "[1 rows x 43 columns]"
      ]
     },
     "execution_count": 10,
     "metadata": {},
     "output_type": "execute_result"
    }
   ],
   "source": [
    "chamados_bairro[(chamados_bairro['id_chamado'].isnull()) | (chamados_bairro['subprefeitura'].isnull())]"
   ]
  },
  {
   "cell_type": "markdown",
   "id": "2c18412b-775c-427e-8ef8-d4dbb4271eaf",
   "metadata": {},
   "source": [
    "## Questão 6"
   ]
  },
  {
   "cell_type": "code",
   "execution_count": 11,
   "id": "6b90cb20-3b57-4ef7-974e-1036f4a02d75",
   "metadata": {},
   "outputs": [
    {
     "name": "stdout",
     "output_type": "stream",
     "text": [
      "Foram abertos 42408 chamdos desde 01/01/2022 até 31/12/2023.\n"
     ]
    }
   ],
   "source": [
    "print(f'Foram abertos {len(chamado_2022_2023_df)} chamdos desde 01/01/2022 até 31/12/2023.')"
   ]
  },
  {
   "cell_type": "markdown",
   "id": "bb61d044-139f-4a6d-82c3-12e25b2f47d0",
   "metadata": {},
   "source": [
    "## Questão 7"
   ]
  },
  {
   "cell_type": "code",
   "execution_count": 12,
   "id": "884722e9-4c9f-459c-887d-1614215fd579",
   "metadata": {},
   "outputs": [
    {
     "data": {
      "text/html": [
       "<div>\n",
       "<style scoped>\n",
       "    .dataframe tbody tr th:only-of-type {\n",
       "        vertical-align: middle;\n",
       "    }\n",
       "\n",
       "    .dataframe tbody tr th {\n",
       "        vertical-align: top;\n",
       "    }\n",
       "\n",
       "    .dataframe thead th {\n",
       "        text-align: right;\n",
       "    }\n",
       "</style>\n",
       "<table border=\"1\" class=\"dataframe\">\n",
       "  <thead>\n",
       "    <tr style=\"text-align: right;\">\n",
       "      <th></th>\n",
       "      <th>id_chamado</th>\n",
       "      <th>data_inicio</th>\n",
       "      <th>data_fim</th>\n",
       "      <th>id_bairro</th>\n",
       "      <th>id_territorialidade</th>\n",
       "      <th>id_logradouro</th>\n",
       "      <th>numero_logradouro</th>\n",
       "      <th>id_unidade_organizacional</th>\n",
       "      <th>nome_unidade_organizacional</th>\n",
       "      <th>id_unidade_organizacional_mae</th>\n",
       "      <th>...</th>\n",
       "      <th>justificativa_status</th>\n",
       "      <th>reclamacoes</th>\n",
       "      <th>data_particao</th>\n",
       "      <th>geometry</th>\n",
       "      <th>constante</th>\n",
       "      <th>ano</th>\n",
       "      <th>data_inicial</th>\n",
       "      <th>data_final</th>\n",
       "      <th>evento</th>\n",
       "      <th>taxa_ocupacao</th>\n",
       "    </tr>\n",
       "  </thead>\n",
       "  <tbody>\n",
       "    <tr>\n",
       "      <th>84801</th>\n",
       "      <td>18078140</td>\n",
       "      <td>2022-12-30</td>\n",
       "      <td>2022-12-30 22:03:07</td>\n",
       "      <td>23</td>\n",
       "      <td>2</td>\n",
       "      <td>65615</td>\n",
       "      <td>93</td>\n",
       "      <td>70</td>\n",
       "      <td>GM-RIO - Guarda Municipal do Rio de Janeiro</td>\n",
       "      <td>GM-RIO - Guarda Municipal do Rio de Janeiro</td>\n",
       "      <td>...</td>\n",
       "      <td>None</td>\n",
       "      <td>0</td>\n",
       "      <td>2022-12-01</td>\n",
       "      <td>POINT(-43.1691884 -22.962173)</td>\n",
       "      <td>True</td>\n",
       "      <td>30-31/12 e 01/01 (2022-2023)</td>\n",
       "      <td>2022-12-30</td>\n",
       "      <td>2023-01-01</td>\n",
       "      <td>Reveillon</td>\n",
       "      <td>0.9251</td>\n",
       "    </tr>\n",
       "    <tr>\n",
       "      <th>84841</th>\n",
       "      <td>18077988</td>\n",
       "      <td>2022-12-30</td>\n",
       "      <td>2022-12-30 22:14:21</td>\n",
       "      <td>35</td>\n",
       "      <td>2</td>\n",
       "      <td>65805</td>\n",
       "      <td>2</td>\n",
       "      <td>70</td>\n",
       "      <td>GM-RIO - Guarda Municipal do Rio de Janeiro</td>\n",
       "      <td>GM-RIO - Guarda Municipal do Rio de Janeiro</td>\n",
       "      <td>...</td>\n",
       "      <td>None</td>\n",
       "      <td>0</td>\n",
       "      <td>2022-12-01</td>\n",
       "      <td>POINT(-43.236608 -22.917704)</td>\n",
       "      <td>True</td>\n",
       "      <td>30-31/12 e 01/01 (2022-2023)</td>\n",
       "      <td>2022-12-30</td>\n",
       "      <td>2023-01-01</td>\n",
       "      <td>Reveillon</td>\n",
       "      <td>0.9251</td>\n",
       "    </tr>\n",
       "    <tr>\n",
       "      <th>84845</th>\n",
       "      <td>18077970</td>\n",
       "      <td>2022-12-30</td>\n",
       "      <td>2022-12-30 22:13:06</td>\n",
       "      <td>35</td>\n",
       "      <td>2</td>\n",
       "      <td>65805</td>\n",
       "      <td>2</td>\n",
       "      <td>70</td>\n",
       "      <td>GM-RIO - Guarda Municipal do Rio de Janeiro</td>\n",
       "      <td>GM-RIO - Guarda Municipal do Rio de Janeiro</td>\n",
       "      <td>...</td>\n",
       "      <td>None</td>\n",
       "      <td>0</td>\n",
       "      <td>2022-12-01</td>\n",
       "      <td>POINT(-43.236608 -22.917704)</td>\n",
       "      <td>True</td>\n",
       "      <td>30-31/12 e 01/01 (2022-2023)</td>\n",
       "      <td>2022-12-30</td>\n",
       "      <td>2023-01-01</td>\n",
       "      <td>Reveillon</td>\n",
       "      <td>0.9251</td>\n",
       "    </tr>\n",
       "    <tr>\n",
       "      <th>84857</th>\n",
       "      <td>18077984</td>\n",
       "      <td>2022-12-30</td>\n",
       "      <td>2022-12-30 22:13:46</td>\n",
       "      <td>35</td>\n",
       "      <td>2</td>\n",
       "      <td>65805</td>\n",
       "      <td>2</td>\n",
       "      <td>70</td>\n",
       "      <td>GM-RIO - Guarda Municipal do Rio de Janeiro</td>\n",
       "      <td>GM-RIO - Guarda Municipal do Rio de Janeiro</td>\n",
       "      <td>...</td>\n",
       "      <td>None</td>\n",
       "      <td>0</td>\n",
       "      <td>2022-12-01</td>\n",
       "      <td>POINT(-43.236608 -22.917704)</td>\n",
       "      <td>True</td>\n",
       "      <td>30-31/12 e 01/01 (2022-2023)</td>\n",
       "      <td>2022-12-30</td>\n",
       "      <td>2023-01-01</td>\n",
       "      <td>Reveillon</td>\n",
       "      <td>0.9251</td>\n",
       "    </tr>\n",
       "    <tr>\n",
       "      <th>85205</th>\n",
       "      <td>18078946</td>\n",
       "      <td>2022-12-31</td>\n",
       "      <td>2022-12-31 14:22:50</td>\n",
       "      <td>141</td>\n",
       "      <td>5</td>\n",
       "      <td>10629</td>\n",
       "      <td>640</td>\n",
       "      <td>70</td>\n",
       "      <td>GM-RIO - Guarda Municipal do Rio de Janeiro</td>\n",
       "      <td>GM-RIO - Guarda Municipal do Rio de Janeiro</td>\n",
       "      <td>...</td>\n",
       "      <td>None</td>\n",
       "      <td>0</td>\n",
       "      <td>2022-12-01</td>\n",
       "      <td>None</td>\n",
       "      <td>True</td>\n",
       "      <td>30-31/12 e 01/01 (2022-2023)</td>\n",
       "      <td>2022-12-30</td>\n",
       "      <td>2023-01-01</td>\n",
       "      <td>Reveillon</td>\n",
       "      <td>0.9251</td>\n",
       "    </tr>\n",
       "    <tr>\n",
       "      <th>...</th>\n",
       "      <td>...</td>\n",
       "      <td>...</td>\n",
       "      <td>...</td>\n",
       "      <td>...</td>\n",
       "      <td>...</td>\n",
       "      <td>...</td>\n",
       "      <td>...</td>\n",
       "      <td>...</td>\n",
       "      <td>...</td>\n",
       "      <td>...</td>\n",
       "      <td>...</td>\n",
       "      <td>...</td>\n",
       "      <td>...</td>\n",
       "      <td>...</td>\n",
       "      <td>...</td>\n",
       "      <td>...</td>\n",
       "      <td>...</td>\n",
       "      <td>...</td>\n",
       "      <td>...</td>\n",
       "      <td>...</td>\n",
       "      <td>...</td>\n",
       "    </tr>\n",
       "    <tr>\n",
       "      <th>167677</th>\n",
       "      <td>18080335</td>\n",
       "      <td>2023-01-01</td>\n",
       "      <td>2023-01-02 02:30:13</td>\n",
       "      <td>64</td>\n",
       "      <td>3</td>\n",
       "      <td>81034</td>\n",
       "      <td>232</td>\n",
       "      <td>70</td>\n",
       "      <td>GM-RIO - Guarda Municipal do Rio de Janeiro</td>\n",
       "      <td>GM-RIO - Guarda Municipal do Rio de Janeiro</td>\n",
       "      <td>...</td>\n",
       "      <td>None</td>\n",
       "      <td>0</td>\n",
       "      <td>2023-01-01</td>\n",
       "      <td>POINT(-43.2867915 -22.8912784)</td>\n",
       "      <td>True</td>\n",
       "      <td>30-31/12 e 01/01 (2022-2023)</td>\n",
       "      <td>2022-12-30</td>\n",
       "      <td>2023-01-01</td>\n",
       "      <td>Reveillon</td>\n",
       "      <td>0.9251</td>\n",
       "    </tr>\n",
       "    <tr>\n",
       "      <th>167681</th>\n",
       "      <td>18080337</td>\n",
       "      <td>2023-01-01</td>\n",
       "      <td>2023-01-02 02:24:31</td>\n",
       "      <td>64</td>\n",
       "      <td>3</td>\n",
       "      <td>81034</td>\n",
       "      <td>232</td>\n",
       "      <td>70</td>\n",
       "      <td>GM-RIO - Guarda Municipal do Rio de Janeiro</td>\n",
       "      <td>GM-RIO - Guarda Municipal do Rio de Janeiro</td>\n",
       "      <td>...</td>\n",
       "      <td>None</td>\n",
       "      <td>0</td>\n",
       "      <td>2023-01-01</td>\n",
       "      <td>POINT(-43.2867915 -22.8912784)</td>\n",
       "      <td>True</td>\n",
       "      <td>30-31/12 e 01/01 (2022-2023)</td>\n",
       "      <td>2022-12-30</td>\n",
       "      <td>2023-01-01</td>\n",
       "      <td>Reveillon</td>\n",
       "      <td>0.9251</td>\n",
       "    </tr>\n",
       "    <tr>\n",
       "      <th>167685</th>\n",
       "      <td>18080341</td>\n",
       "      <td>2023-01-01</td>\n",
       "      <td>2023-01-02 02:18:39</td>\n",
       "      <td>64</td>\n",
       "      <td>3</td>\n",
       "      <td>81034</td>\n",
       "      <td>232</td>\n",
       "      <td>70</td>\n",
       "      <td>GM-RIO - Guarda Municipal do Rio de Janeiro</td>\n",
       "      <td>GM-RIO - Guarda Municipal do Rio de Janeiro</td>\n",
       "      <td>...</td>\n",
       "      <td>None</td>\n",
       "      <td>0</td>\n",
       "      <td>2023-01-01</td>\n",
       "      <td>POINT(-43.2867915 -22.8912784)</td>\n",
       "      <td>True</td>\n",
       "      <td>30-31/12 e 01/01 (2022-2023)</td>\n",
       "      <td>2022-12-30</td>\n",
       "      <td>2023-01-01</td>\n",
       "      <td>Reveillon</td>\n",
       "      <td>0.9251</td>\n",
       "    </tr>\n",
       "    <tr>\n",
       "      <th>167713</th>\n",
       "      <td>18079926</td>\n",
       "      <td>2023-01-01</td>\n",
       "      <td>2023-01-01 21:24:33</td>\n",
       "      <td>42</td>\n",
       "      <td>3</td>\n",
       "      <td>19117</td>\n",
       "      <td>77</td>\n",
       "      <td>70</td>\n",
       "      <td>GM-RIO - Guarda Municipal do Rio de Janeiro</td>\n",
       "      <td>GM-RIO - Guarda Municipal do Rio de Janeiro</td>\n",
       "      <td>...</td>\n",
       "      <td>None</td>\n",
       "      <td>2</td>\n",
       "      <td>2023-01-01</td>\n",
       "      <td>POINT(-43.2679728 -22.8477888)</td>\n",
       "      <td>True</td>\n",
       "      <td>30-31/12 e 01/01 (2022-2023)</td>\n",
       "      <td>2022-12-30</td>\n",
       "      <td>2023-01-01</td>\n",
       "      <td>Reveillon</td>\n",
       "      <td>0.9251</td>\n",
       "    </tr>\n",
       "    <tr>\n",
       "      <th>169393</th>\n",
       "      <td>18080205</td>\n",
       "      <td>2023-01-01</td>\n",
       "      <td>2023-01-01 21:11:41</td>\n",
       "      <td>144</td>\n",
       "      <td>5</td>\n",
       "      <td>20008</td>\n",
       "      <td>390</td>\n",
       "      <td>70</td>\n",
       "      <td>GM-RIO - Guarda Municipal do Rio de Janeiro</td>\n",
       "      <td>GM-RIO - Guarda Municipal do Rio de Janeiro</td>\n",
       "      <td>...</td>\n",
       "      <td>None</td>\n",
       "      <td>0</td>\n",
       "      <td>2023-01-01</td>\n",
       "      <td>POINT(-43.5706624 -22.9106516)</td>\n",
       "      <td>True</td>\n",
       "      <td>30-31/12 e 01/01 (2022-2023)</td>\n",
       "      <td>2022-12-30</td>\n",
       "      <td>2023-01-01</td>\n",
       "      <td>Reveillon</td>\n",
       "      <td>0.9251</td>\n",
       "    </tr>\n",
       "  </tbody>\n",
       "</table>\n",
       "<p>1212 rows × 38 columns</p>\n",
       "</div>"
      ],
      "text/plain": [
       "       id_chamado data_inicio            data_fim id_bairro  \\\n",
       "84801    18078140  2022-12-30 2022-12-30 22:03:07        23   \n",
       "84841    18077988  2022-12-30 2022-12-30 22:14:21        35   \n",
       "84845    18077970  2022-12-30 2022-12-30 22:13:06        35   \n",
       "84857    18077984  2022-12-30 2022-12-30 22:13:46        35   \n",
       "85205    18078946  2022-12-31 2022-12-31 14:22:50       141   \n",
       "...           ...         ...                 ...       ...   \n",
       "167677   18080335  2023-01-01 2023-01-02 02:30:13        64   \n",
       "167681   18080337  2023-01-01 2023-01-02 02:24:31        64   \n",
       "167685   18080341  2023-01-01 2023-01-02 02:18:39        64   \n",
       "167713   18079926  2023-01-01 2023-01-01 21:24:33        42   \n",
       "169393   18080205  2023-01-01 2023-01-01 21:11:41       144   \n",
       "\n",
       "       id_territorialidade id_logradouro  numero_logradouro  \\\n",
       "84801                    2         65615                 93   \n",
       "84841                    2         65805                  2   \n",
       "84845                    2         65805                  2   \n",
       "84857                    2         65805                  2   \n",
       "85205                    5         10629                640   \n",
       "...                    ...           ...                ...   \n",
       "167677                   3         81034                232   \n",
       "167681                   3         81034                232   \n",
       "167685                   3         81034                232   \n",
       "167713                   3         19117                 77   \n",
       "169393                   5         20008                390   \n",
       "\n",
       "       id_unidade_organizacional                  nome_unidade_organizacional  \\\n",
       "84801                         70  GM-RIO - Guarda Municipal do Rio de Janeiro   \n",
       "84841                         70  GM-RIO - Guarda Municipal do Rio de Janeiro   \n",
       "84845                         70  GM-RIO - Guarda Municipal do Rio de Janeiro   \n",
       "84857                         70  GM-RIO - Guarda Municipal do Rio de Janeiro   \n",
       "85205                         70  GM-RIO - Guarda Municipal do Rio de Janeiro   \n",
       "...                          ...                                          ...   \n",
       "167677                        70  GM-RIO - Guarda Municipal do Rio de Janeiro   \n",
       "167681                        70  GM-RIO - Guarda Municipal do Rio de Janeiro   \n",
       "167685                        70  GM-RIO - Guarda Municipal do Rio de Janeiro   \n",
       "167713                        70  GM-RIO - Guarda Municipal do Rio de Janeiro   \n",
       "169393                        70  GM-RIO - Guarda Municipal do Rio de Janeiro   \n",
       "\n",
       "                      id_unidade_organizacional_mae  ... justificativa_status  \\\n",
       "84801   GM-RIO - Guarda Municipal do Rio de Janeiro  ...                 None   \n",
       "84841   GM-RIO - Guarda Municipal do Rio de Janeiro  ...                 None   \n",
       "84845   GM-RIO - Guarda Municipal do Rio de Janeiro  ...                 None   \n",
       "84857   GM-RIO - Guarda Municipal do Rio de Janeiro  ...                 None   \n",
       "85205   GM-RIO - Guarda Municipal do Rio de Janeiro  ...                 None   \n",
       "...                                             ...  ...                  ...   \n",
       "167677  GM-RIO - Guarda Municipal do Rio de Janeiro  ...                 None   \n",
       "167681  GM-RIO - Guarda Municipal do Rio de Janeiro  ...                 None   \n",
       "167685  GM-RIO - Guarda Municipal do Rio de Janeiro  ...                 None   \n",
       "167713  GM-RIO - Guarda Municipal do Rio de Janeiro  ...                 None   \n",
       "169393  GM-RIO - Guarda Municipal do Rio de Janeiro  ...                 None   \n",
       "\n",
       "       reclamacoes data_particao                        geometry constante  \\\n",
       "84801            0    2022-12-01   POINT(-43.1691884 -22.962173)      True   \n",
       "84841            0    2022-12-01    POINT(-43.236608 -22.917704)      True   \n",
       "84845            0    2022-12-01    POINT(-43.236608 -22.917704)      True   \n",
       "84857            0    2022-12-01    POINT(-43.236608 -22.917704)      True   \n",
       "85205            0    2022-12-01                            None      True   \n",
       "...            ...           ...                             ...       ...   \n",
       "167677           0    2023-01-01  POINT(-43.2867915 -22.8912784)      True   \n",
       "167681           0    2023-01-01  POINT(-43.2867915 -22.8912784)      True   \n",
       "167685           0    2023-01-01  POINT(-43.2867915 -22.8912784)      True   \n",
       "167713           2    2023-01-01  POINT(-43.2679728 -22.8477888)      True   \n",
       "169393           0    2023-01-01  POINT(-43.5706624 -22.9106516)      True   \n",
       "\n",
       "                                 ano data_inicial  data_final     evento  \\\n",
       "84801   30-31/12 e 01/01 (2022-2023)   2022-12-30  2023-01-01  Reveillon   \n",
       "84841   30-31/12 e 01/01 (2022-2023)   2022-12-30  2023-01-01  Reveillon   \n",
       "84845   30-31/12 e 01/01 (2022-2023)   2022-12-30  2023-01-01  Reveillon   \n",
       "84857   30-31/12 e 01/01 (2022-2023)   2022-12-30  2023-01-01  Reveillon   \n",
       "85205   30-31/12 e 01/01 (2022-2023)   2022-12-30  2023-01-01  Reveillon   \n",
       "...                              ...          ...         ...        ...   \n",
       "167677  30-31/12 e 01/01 (2022-2023)   2022-12-30  2023-01-01  Reveillon   \n",
       "167681  30-31/12 e 01/01 (2022-2023)   2022-12-30  2023-01-01  Reveillon   \n",
       "167685  30-31/12 e 01/01 (2022-2023)   2022-12-30  2023-01-01  Reveillon   \n",
       "167713  30-31/12 e 01/01 (2022-2023)   2022-12-30  2023-01-01  Reveillon   \n",
       "169393  30-31/12 e 01/01 (2022-2023)   2022-12-30  2023-01-01  Reveillon   \n",
       "\n",
       "       taxa_ocupacao  \n",
       "84801         0.9251  \n",
       "84841         0.9251  \n",
       "84845         0.9251  \n",
       "84857         0.9251  \n",
       "85205         0.9251  \n",
       "...              ...  \n",
       "167677        0.9251  \n",
       "167681        0.9251  \n",
       "167685        0.9251  \n",
       "167713        0.9251  \n",
       "169393        0.9251  \n",
       "\n",
       "[1212 rows x 38 columns]"
      ]
     },
     "execution_count": 12,
     "metadata": {},
     "output_type": "execute_result"
    }
   ],
   "source": [
    "chamado_2022_2023_df['constante'] = True\n",
    "ocupacao_eventos_df['constante'] = True\n",
    "\n",
    "chamado_eventos_join_df = pd.merge(chamado_2022_2023_df, ocupacao_eventos_df, on = 'constante')\n",
    "chamado_eventos_join_df = chamado_eventos_join_df[(chamado_eventos_join_df['data_inicio'] <= chamado_eventos_join_df['data_final']) & (chamado_eventos_join_df['data_inicio'] >= chamado_eventos_join_df['data_inicial'])]\n",
    "chamado_eventos_join_df"
   ]
  },
  {
   "cell_type": "markdown",
   "id": "f20ad3a9-ea42-4faf-85ff-3996720effd7",
   "metadata": {},
   "source": [
    "## Questão 8"
   ]
  },
  {
   "cell_type": "code",
   "execution_count": 13,
   "id": "b03e40c7-182f-40d0-9523-e8f6aad5be37",
   "metadata": {},
   "outputs": [
    {
     "data": {
      "text/html": [
       "<div>\n",
       "<style scoped>\n",
       "    .dataframe tbody tr th:only-of-type {\n",
       "        vertical-align: middle;\n",
       "    }\n",
       "\n",
       "    .dataframe tbody tr th {\n",
       "        vertical-align: top;\n",
       "    }\n",
       "\n",
       "    .dataframe thead th {\n",
       "        text-align: right;\n",
       "    }\n",
       "</style>\n",
       "<table border=\"1\" class=\"dataframe\">\n",
       "  <thead>\n",
       "    <tr style=\"text-align: right;\">\n",
       "      <th></th>\n",
       "      <th>evento</th>\n",
       "      <th>contagem</th>\n",
       "    </tr>\n",
       "  </thead>\n",
       "  <tbody>\n",
       "    <tr>\n",
       "      <th>0</th>\n",
       "      <td>Rock in Rio</td>\n",
       "      <td>834</td>\n",
       "    </tr>\n",
       "    <tr>\n",
       "      <th>1</th>\n",
       "      <td>Carnaval</td>\n",
       "      <td>241</td>\n",
       "    </tr>\n",
       "    <tr>\n",
       "      <th>2</th>\n",
       "      <td>Reveillon</td>\n",
       "      <td>137</td>\n",
       "    </tr>\n",
       "  </tbody>\n",
       "</table>\n",
       "</div>"
      ],
      "text/plain": [
       "        evento  contagem\n",
       "0  Rock in Rio       834\n",
       "1     Carnaval       241\n",
       "2    Reveillon       137"
      ]
     },
     "execution_count": 13,
     "metadata": {},
     "output_type": "execute_result"
    }
   ],
   "source": [
    "chamados_por_evento = chamado_eventos_join_df['evento'].value_counts().reset_index()\n",
    "chamados_por_evento.rename(columns={'evento': 'contagem', 'index': 'evento'}, inplace = True)\n",
    "chamados_por_evento"
   ]
  },
  {
   "cell_type": "code",
   "execution_count": 14,
   "id": "de03381a-2e9a-4040-a61d-65042d71bf40",
   "metadata": {},
   "outputs": [
    {
     "name": "stdout",
     "output_type": "stream",
     "text": [
      "No Rock in Rio, foram abertos 834 chamados.\n",
      "No Carnaval, foram abertos 241 chamados.\n",
      "No Reveillon, foram abertos 137 chamados.\n"
     ]
    }
   ],
   "source": [
    "print(f'No {chamados_por_evento.loc[0][0]}, foram abertos {chamados_por_evento.loc[0][1]} chamados.')\n",
    "print(f'No {chamados_por_evento.loc[1][0]}, foram abertos {chamados_por_evento.loc[1][1]} chamados.')\n",
    "print(f'No {chamados_por_evento.loc[2][0]}, foram abertos {chamados_por_evento.loc[2][1]} chamados.')"
   ]
  },
  {
   "cell_type": "markdown",
   "id": "b935403b-dc73-4542-86e4-2ec1b65ce187",
   "metadata": {},
   "source": [
    "## Questão 9"
   ]
  },
  {
   "cell_type": "code",
   "execution_count": 15,
   "id": "ee94a87f-6681-4e4b-999a-42e128da92ed",
   "metadata": {},
   "outputs": [],
   "source": [
    "ocupacao_eventos_df['duracao'] = (ocupacao_eventos_df['data_final'] - ocupacao_eventos_df['data_inicial'])/ pd.Timedelta(1, unit='d') + 1\n",
    "\n",
    "duracao_eventos = ocupacao_eventos_df.groupby(['evento']) \\\n",
    "    .agg(duracao = ('duracao', 'sum')) \\\n",
    "    .reset_index()"
   ]
  },
  {
   "cell_type": "code",
   "execution_count": 16,
   "id": "6e5b4d67-f0fa-4bc7-8d4f-d414d746d27a",
   "metadata": {},
   "outputs": [
    {
     "data": {
      "text/html": [
       "<div>\n",
       "<style scoped>\n",
       "    .dataframe tbody tr th:only-of-type {\n",
       "        vertical-align: middle;\n",
       "    }\n",
       "\n",
       "    .dataframe tbody tr th {\n",
       "        vertical-align: top;\n",
       "    }\n",
       "\n",
       "    .dataframe thead th {\n",
       "        text-align: right;\n",
       "    }\n",
       "</style>\n",
       "<table border=\"1\" class=\"dataframe\">\n",
       "  <thead>\n",
       "    <tr style=\"text-align: right;\">\n",
       "      <th></th>\n",
       "      <th>evento</th>\n",
       "      <th>media_chamados</th>\n",
       "    </tr>\n",
       "  </thead>\n",
       "  <tbody>\n",
       "    <tr>\n",
       "      <th>0</th>\n",
       "      <td>Carnaval</td>\n",
       "      <td>60.250000</td>\n",
       "    </tr>\n",
       "    <tr>\n",
       "      <th>1</th>\n",
       "      <td>Reveillon</td>\n",
       "      <td>45.666667</td>\n",
       "    </tr>\n",
       "    <tr>\n",
       "      <th>2</th>\n",
       "      <td>Rock in Rio</td>\n",
       "      <td>119.142857</td>\n",
       "    </tr>\n",
       "  </tbody>\n",
       "</table>\n",
       "</div>"
      ],
      "text/plain": [
       "        evento  media_chamados\n",
       "0     Carnaval       60.250000\n",
       "1    Reveillon       45.666667\n",
       "2  Rock in Rio      119.142857"
      ]
     },
     "execution_count": 16,
     "metadata": {},
     "output_type": "execute_result"
    }
   ],
   "source": [
    "media_chamados_evento = pd.merge(duracao_eventos, chamados_por_evento, on = 'evento')\n",
    "media_chamados_evento['media_chamados'] = media_chamados_evento['contagem']/media_chamados_evento['duracao']\n",
    "media_chamados_evento = media_chamados_evento[['evento', 'media_chamados']]\n",
    "media_chamados_evento"
   ]
  },
  {
   "cell_type": "code",
   "execution_count": 17,
   "id": "66e9192b-93f1-4f8a-b5a9-84a725dd3e9c",
   "metadata": {},
   "outputs": [
    {
     "name": "stdout",
     "output_type": "stream",
     "text": [
      "O Rock in Rio teve a maior média diária de chamados.\n"
     ]
    }
   ],
   "source": [
    "evento_maior_media_diaria = media_chamados_evento.loc[media_chamados_evento['media_chamados'].idxmax()][0]\n",
    "print(f'O {evento_maior_media_diaria} teve a maior média diária de chamados.')"
   ]
  },
  {
   "cell_type": "markdown",
   "id": "6651622a-0849-486e-aff6-99e4cb1c2e0a",
   "metadata": {},
   "source": [
    "## Questão 10"
   ]
  },
  {
   "cell_type": "code",
   "execution_count": 18,
   "id": "f6a259ed-8013-4fe8-b85b-187638ecfbfc",
   "metadata": {},
   "outputs": [
    {
     "data": {
      "text/html": [
       "<div>\n",
       "<style scoped>\n",
       "    .dataframe tbody tr th:only-of-type {\n",
       "        vertical-align: middle;\n",
       "    }\n",
       "\n",
       "    .dataframe tbody tr th {\n",
       "        vertical-align: top;\n",
       "    }\n",
       "\n",
       "    .dataframe thead th {\n",
       "        text-align: right;\n",
       "    }\n",
       "</style>\n",
       "<table border=\"1\" class=\"dataframe\">\n",
       "  <thead>\n",
       "    <tr style=\"text-align: right;\">\n",
       "      <th></th>\n",
       "      <th>evento</th>\n",
       "      <th>media_chamados</th>\n",
       "    </tr>\n",
       "  </thead>\n",
       "  <tbody>\n",
       "    <tr>\n",
       "      <th>0</th>\n",
       "      <td>Carnaval</td>\n",
       "      <td>60.250000</td>\n",
       "    </tr>\n",
       "    <tr>\n",
       "      <th>1</th>\n",
       "      <td>Reveillon</td>\n",
       "      <td>45.666667</td>\n",
       "    </tr>\n",
       "    <tr>\n",
       "      <th>2</th>\n",
       "      <td>Rock in Rio</td>\n",
       "      <td>119.142857</td>\n",
       "    </tr>\n",
       "    <tr>\n",
       "      <th>3</th>\n",
       "      <td>Ano 2022 e 2023</td>\n",
       "      <td>58.093151</td>\n",
       "    </tr>\n",
       "  </tbody>\n",
       "</table>\n",
       "</div>"
      ],
      "text/plain": [
       "            evento  media_chamados\n",
       "0         Carnaval       60.250000\n",
       "1        Reveillon       45.666667\n",
       "2      Rock in Rio      119.142857\n",
       "3  Ano 2022 e 2023       58.093151"
      ]
     },
     "execution_count": 18,
     "metadata": {},
     "output_type": "execute_result"
    }
   ],
   "source": [
    "media_anual = len(chamado_2022_2023_df)/(datetime(2024, 1, 1) - datetime(2022, 1, 1)).days\n",
    "\n",
    "nova_linha_media_anual = {'evento': 'Ano 2022 e 2023', \n",
    "                          'media_chamados': media_anual}\n",
    "\n",
    "media_chamados_evento = media_chamados_evento.append(nova_linha_media_anual, ignore_index = True)\n",
    "media_chamados_evento"
   ]
  }
 ],
 "metadata": {
  "kernelspec": {
   "display_name": "Python 3",
   "language": "python",
   "name": "python3"
  },
  "language_info": {
   "codemirror_mode": {
    "name": "ipython",
    "version": 3
   },
   "file_extension": ".py",
   "mimetype": "text/x-python",
   "name": "python",
   "nbconvert_exporter": "python",
   "pygments_lexer": "ipython3",
   "version": "3.8.10"
  }
 },
 "nbformat": 4,
 "nbformat_minor": 5
}
